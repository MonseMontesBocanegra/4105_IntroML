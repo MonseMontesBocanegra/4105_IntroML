{
  "nbformat": 4,
  "nbformat_minor": 0,
  "metadata": {
    "colab": {
      "provenance": [],
      "authorship_tag": "ABX9TyPb65bbCxhl5lOHvn9KzaUN",
      "include_colab_link": true
    },
    "kernelspec": {
      "name": "python3",
      "display_name": "Python 3"
    },
    "language_info": {
      "name": "python"
    }
  },
  "cells": [
    {
      "cell_type": "markdown",
      "metadata": {
        "id": "view-in-github",
        "colab_type": "text"
      },
      "source": [
        "<a href=\"https://colab.research.google.com/github/MonseMontesBocanegra/4105_IntroML/blob/main/ML_First_Code.ipynb\" target=\"_parent\"><img src=\"https://colab.research.google.com/assets/colab-badge.svg\" alt=\"Open In Colab\"/></a>"
      ]
    },
    {
      "cell_type": "code",
      "execution_count": 18,
      "metadata": {
        "colab": {
          "base_uri": "https://localhost:8080/"
        },
        "id": "wG05XjqjLvMC",
        "outputId": "77fe0005-d4ea-445f-860a-653cb8809a6c"
      },
      "outputs": [
        {
          "output_type": "stream",
          "name": "stdout",
          "text": [
            "[[1 2 3]\n",
            " [3 4 5]]\n"
          ]
        }
      ],
      "source": [
        "#Remeber to download your code and upload in the github\n",
        "#On canvas submit link of github (doesnt want to see the whole code on submission)\n",
        "\n",
        "\n",
        "import numpy as np\n",
        "\n",
        "x = np.array([[1,2,3],[3,4,5]])\n",
        "print(x)\n"
      ]
    },
    {
      "cell_type": "code",
      "source": [
        "#Panda is a way to give input to a user\n",
        "# Display is to display data (show tabel and such)\n",
        "#\n",
        "\n",
        "import Ipython.display import display\n",
        "import panda as pd\n",
        "\n",
        "\n"
      ],
      "metadata": {
        "id": "CB2Yi9_9NY3R"
      },
      "execution_count": null,
      "outputs": []
    }
  ]
}